{
  "nbformat": 4,
  "nbformat_minor": 0,
  "metadata": {
    "colab": {
      "provenance": [],
      "collapsed_sections": []
    },
    "kernelspec": {
      "name": "python3",
      "display_name": "Python 3"
    },
    "language_info": {
      "name": "python"
    }
  },
  "cells": [
    {
      "cell_type": "markdown",
      "source": [
        "# **Taller #2**\n",
        "\n",
        "Johan Baron - \n",
        "Carolina Rincón -\n",
        "Juan Jose -"
      ],
      "metadata": {
        "id": "eayevZf1UFkr"
      }
    },
    {
      "cell_type": "code",
      "source": [
        "import numpy as np\n",
        "import pandas as pd\n",
        "import matplotlib.pyplot as plt\n",
        "from scipy.optimize import minimize\n",
        "from scipy.optimize import linprog\n",
        "!pip install yfinance\n",
        "import yfinance as yf\n",
        "import cvxpy as cp\n",
        "from scipy import stats\n",
        "import warnings\n",
        "warnings.filterwarnings(\"ignore\")"
      ],
      "metadata": {
        "id": "Dt5xWE-kUNIa",
        "colab": {
          "base_uri": "https://localhost:8080/"
        },
        "outputId": "56141bde-92fb-4933-e48f-11442c6ee588"
      },
      "execution_count": null,
      "outputs": [
        {
          "output_type": "stream",
          "name": "stdout",
          "text": [
            "Looking in indexes: https://pypi.org/simple, https://us-python.pkg.dev/colab-wheels/public/simple/\n",
            "Collecting yfinance\n",
            "  Downloading yfinance-0.1.74-py2.py3-none-any.whl (27 kB)\n",
            "Collecting requests>=2.26\n",
            "  Downloading requests-2.28.1-py3-none-any.whl (62 kB)\n",
            "\u001b[K     |████████████████████████████████| 62 kB 1.2 MB/s \n",
            "\u001b[?25hRequirement already satisfied: numpy>=1.15 in /usr/local/lib/python3.7/dist-packages (from yfinance) (1.21.6)\n",
            "Requirement already satisfied: lxml>=4.5.1 in /usr/local/lib/python3.7/dist-packages (from yfinance) (4.9.1)\n",
            "Requirement already satisfied: multitasking>=0.0.7 in /usr/local/lib/python3.7/dist-packages (from yfinance) (0.0.11)\n",
            "Requirement already satisfied: pandas>=0.24.0 in /usr/local/lib/python3.7/dist-packages (from yfinance) (1.3.5)\n",
            "Requirement already satisfied: pytz>=2017.3 in /usr/local/lib/python3.7/dist-packages (from pandas>=0.24.0->yfinance) (2022.2.1)\n",
            "Requirement already satisfied: python-dateutil>=2.7.3 in /usr/local/lib/python3.7/dist-packages (from pandas>=0.24.0->yfinance) (2.8.2)\n",
            "Requirement already satisfied: six>=1.5 in /usr/local/lib/python3.7/dist-packages (from python-dateutil>=2.7.3->pandas>=0.24.0->yfinance) (1.15.0)\n",
            "Requirement already satisfied: urllib3<1.27,>=1.21.1 in /usr/local/lib/python3.7/dist-packages (from requests>=2.26->yfinance) (1.24.3)\n",
            "Requirement already satisfied: charset-normalizer<3,>=2 in /usr/local/lib/python3.7/dist-packages (from requests>=2.26->yfinance) (2.1.1)\n",
            "Requirement already satisfied: certifi>=2017.4.17 in /usr/local/lib/python3.7/dist-packages (from requests>=2.26->yfinance) (2022.6.15)\n",
            "Requirement already satisfied: idna<4,>=2.5 in /usr/local/lib/python3.7/dist-packages (from requests>=2.26->yfinance) (2.10)\n",
            "Installing collected packages: requests, yfinance\n",
            "  Attempting uninstall: requests\n",
            "    Found existing installation: requests 2.23.0\n",
            "    Uninstalling requests-2.23.0:\n",
            "      Successfully uninstalled requests-2.23.0\n",
            "Successfully installed requests-2.28.1 yfinance-0.1.74\n"
          ]
        }
      ]
    },
    {
      "cell_type": "markdown",
      "source": [],
      "metadata": {
        "id": "E6bS6mCj41Kv"
      }
    },
    {
      "cell_type": "markdown",
      "source": [
        "**Punto 1**\n",
        "Dibujar la región factible el siguiente problema de programación lineal (LP) con dos variables:"
      ],
      "metadata": {
        "id": "8WjAe-tUS2oT"
      }
    },
    {
      "cell_type": "code",
      "source": [
        "from matplotlib.patches import Polygon\n",
        "fig, ax = plt.subplots(figsize=(8, 6))\n",
        "ax.grid()\n",
        "\n",
        "# Lineas de restricción\n",
        "ax.hlines(0, -1, 5)\n",
        "ax.vlines(0, -1, 8)\n",
        "ax.plot(np.linspace(-1, 5, 100), 1-1*np.linspace(-1, 5, 100), color=\"b\")\n",
        "ax.plot(np.linspace(-1, 5, 100), np.linspace(-1, 5, 100), color=\"b\")\n",
        "ax.plot(np.linspace(-1, 5, 100), 6-3*np.linspace(-1, 5, 100), color=\"b\")\n",
        "ax.text(5, -3, \"$x_1 + x_2 \\geq 1$\", size=12)\n",
        "ax.text(5, 5, \"$x_1 - x_2 \\leq 0$\", size=12)\n",
        "ax.text(-1.25, 10, \"$3x_1 + x_2 \\leq 6$\", size=12)\n",
        "ax.text(0.25, -1.5, \"$x_1 \\geq 0$\", size=12) \n",
        "ax.text(-0.75, 2.5, \"$x_2 \\geq 0$\", size=12) \n",
        "\n",
        "# Región Factible\n",
        "feasible_set = Polygon(np.array([[0, 1], \n",
        "                                 [0.5, 0.5], \n",
        "                                 [1.5, 1.5], \n",
        "                                 [0, 6]]), \n",
        "                       color=\"magenta\")\n",
        "ax.add_patch(feasible_set)\n",
        "\n",
        "\n",
        "# Punto óptimo\n",
        "ax.plot(1.5, 1.5, \"*\", color=\"black\")\n",
        "ax.text(1.5, 1.5, \"Punto Óptimo\", size=12)\n",
        "\n",
        "plt.show()"
      ],
      "metadata": {
        "id": "TWqoUJdyUjEq",
        "colab": {
          "base_uri": "https://localhost:8080/",
          "height": 387
        },
        "outputId": "4e213d0f-1798-4e81-836f-8857d7a3b728"
      },
      "execution_count": null,
      "outputs": [
        {
          "output_type": "display_data",
          "data": {
            "text/plain": [
              "<Figure size 576x432 with 1 Axes>"
            ],
            "image/png": "[encoded data removed]"
          },
          "metadata": {
            "needs_background": "light"
          }
        }
      ]
    },
    {
      "cell_type": "markdown",
      "source": [
        "R/ La región factible de la grafica es l parte encerrada en color fucsia la cual, lhace uso y combinaaciones de las dos restricciones. la zona hacia arriba es la parte no factible. la solucion es el vertice de la region factible."
      ],
      "metadata": {
        "id": "N12Rgaj5712K"
      }
    },
    {
      "cell_type": "markdown",
      "source": [
        "**Punto 2**\n",
        "2. Usted desea invertir la suma de $80 millones en cuatro fondos mutuos que tienen diferentes retornos esperados (E(Ri)), así como diferentes ponderaciones en acciones de capitalización grande, mediana y pequeña.\n",
        "La asignación anterior debe contener al menos un 35 % de acciones de gran capitalización, un 30% de mediana capitalización y un 15% de acciones de pequeña capitalización. Encuentre una asignación factible con el retorno esperado más alto, bajo el supuesto de que solo se le permite mantener posiciones largas en los fondos. Para ello, formule y resuelva el problema de programación lineal, bajo las siguientes restricciones:\n",
        "\n"
      ],
      "metadata": {
        "id": "Z7tYB9efT87T"
      }
    },
    {
      "cell_type": "code",
      "execution_count": null,
      "metadata": {
        "colab": {
          "base_uri": "https://localhost:8080/"
        },
        "id": "jnt_dGpCTxV9",
        "outputId": "4938bb99-59bf-4145-e844-1075692b5003"
      },
      "outputs": [
        {
          "output_type": "execute_result",
          "data": {
            "text/plain": [
              "     con: array([0.])\n",
              "     fun: -10.989473684210527\n",
              " message: 'Optimization terminated successfully.'\n",
              "     nit: 7\n",
              "   slack: array([-3.55271368e-15, -3.55271368e-15,  1.60000000e+01])\n",
              "  status: 0\n",
              " success: True\n",
              "       x: array([ 0.        , 12.63157895, 46.31578947, 21.05263158])"
            ]
          },
          "metadata": {},
          "execution_count": 27
        }
      ],
      "source": [
        "#En linprog\n",
        "#retornos que ofeece cada fondo => c\n",
        "c = np.array([0.1,0.15,0.16,0.08])\n",
        "#igualdades de resticciones\n",
        "A = np.array([[1,1,1,1]])\n",
        "b = np.array([80])\n",
        "#restricciones de desigualdad, participaciones de cada una en el fondo de inversion\n",
        "D = np.array([[0.5,0.3,0.25,0.6],\n",
        "              [0.3,0.1,0.4,0.2],\n",
        "              [0.2,0.6,0.35,0.2]])\n",
        "d = np.array([28,24,12])\n",
        "\n",
        "resultado = linprog(-c,A_ub=-D,b_ub=-d,A_eq=A,b_eq=b, method='simplex')\n",
        "resultado\n",
        "\n"
      ]
    },
    {
      "cell_type": "code",
      "source": [
        "#Solución con cvxp\n",
        "n = len(c) \n",
        "x = cp.Variable(n) \n",
        "\n",
        "objective = cp.Maximize(c.T @ x )\n",
        "constraints = [A @ x == b, D @x>=d,x>=0]\n",
        "prob = cp.Problem(objective, constraints)\n",
        "\n",
        "result = prob.solve()\n",
        "\n",
        "sol = round(pd.DataFrame(x.value),4)\n",
        "sol\n",
        "\n"
      ],
      "metadata": {
        "colab": {
          "base_uri": "https://localhost:8080/",
          "height": 175
        },
        "id": "-XmjPX7bzyKO",
        "outputId": "d2157b8d-2001-46c8-8a1d-67c3b2f77671"
      },
      "execution_count": null,
      "outputs": [
        {
          "output_type": "execute_result",
          "data": {
            "text/plain": [
              "         0\n",
              "0   0.0000\n",
              "1  12.6316\n",
              "2  46.3158\n",
              "3  21.0526"
            ],
            "text/html": [
              "\n",
              "  <div id=\"df-1587a6bc-e8fe-4b3a-8497-d99a4a518d15\">\n",
              "    <div class=\"colab-df-container\">\n",
              "      <div>\n",
              "<style scoped>\n",
              "    .dataframe tbody tr th:only-of-type {\n",
              "        vertical-align: middle;\n",
              "    }\n",
              "\n",
              "    .dataframe tbody tr th {\n",
              "        vertical-align: top;\n",
              "    }\n",
              "\n",
              "    .dataframe thead th {\n",
              "        text-align: right;\n",
              "    }\n",
              "</style>\n",
              "<table border=\"1\" class=\"dataframe\">\n",
              "  <thead>\n",
              "    <tr style=\"text-align: right;\">\n",
              "      <th></th>\n",
              "      <th>0</th>\n",
              "    </tr>\n",
              "  </thead>\n",
              "  <tbody>\n",
              "    <tr>\n",
              "      <th>0</th>\n",
              "      <td>0.0000</td>\n",
              "    </tr>\n",
              "    <tr>\n",
              "      <th>1</th>\n",
              "      <td>12.6316</td>\n",
              "    </tr>\n",
              "    <tr>\n",
              "      <th>2</th>\n",
              "      <td>46.3158</td>\n",
              "    </tr>\n",
              "    <tr>\n",
              "      <th>3</th>\n",
              "      <td>21.0526</td>\n",
              "    </tr>\n",
              "  </tbody>\n",
              "</table>\n",
              "</div>\n",
              "      <button class=\"colab-df-convert\" onclick=\"convertToInteractive('df-1587a6bc-e8fe-4b3a-8497-d99a4a518d15')\"\n",
              "              title=\"Convert this dataframe to an interactive table.\"\n",
              "              style=\"display:none;\">\n",
              "        \n",
              "  <svg xmlns=\"http://www.w3.org/2000/svg\" height=\"24px\"viewBox=\"0 0 24 24\"\n",
              "       width=\"24px\">\n",
              "    <path d=\"M0 0h24v24H0V0z\" fill=\"none\"/>\n",
              "    <path d=\"M18.56 5.44l.94 2.06.94-2.06 2.06-.94-2.06-.94-.94-2.06-.94 2.06-2.06.94zm-11 1L8.5 8.5l.94-2.06 2.06-.94-2.06-.94L8.5 2.5l-.94 2.06-2.06.94zm10 10l.94 2.06.94-2.06 2.06-.94-2.06-.94-.94-2.06-.94 2.06-2.06.94z\"/><path d=\"M17.41 7.96l-1.37-1.37c-.4-.4-.92-.59-1.43-.59-.52 0-1.04.2-1.43.59L10.3 9.45l-7.72 7.72c-.78.78-.78 2.05 0 2.83L4 21.41c.39.39.9.59 1.41.59.51 0 1.02-.2 1.41-.59l7.78-7.78 2.81-2.81c.8-.78.8-2.07 0-2.86zM5.41 20L4 18.59l7.72-7.72 1.47 1.35L5.41 20z\"/>\n",
              "  </svg>\n",
              "      </button>\n",
              "      \n",
              "  <style>\n",
              "    .colab-df-container {\n",
              "      display:flex;\n",
              "      flex-wrap:wrap;\n",
              "      gap: 12px;\n",
              "    }\n",
              "\n",
              "    .colab-df-convert {\n",
              "      background-color: #E8F0FE;\n",
              "      border: none;\n",
              "      border-radius: 50%;\n",
              "      cursor: pointer;\n",
              "      display: none;\n",
              "      fill: #1967D2;\n",
              "      height: 32px;\n",
              "      padding: 0 0 0 0;\n",
              "      width: 32px;\n",
              "    }\n",
              "\n",
              "    .colab-df-convert:hover {\n",
              "      background-color: #E2EBFA;\n",
              "      box-shadow: 0px 1px 2px rgba(60, 64, 67, 0.3), 0px 1px 3px 1px rgba(60, 64, 67, 0.15);\n",
              "      fill: #174EA6;\n",
              "    }\n",
              "\n",
              "    [theme=dark] .colab-df-convert {\n",
              "      background-color: #3B4455;\n",
              "      fill: #D2E3FC;\n",
              "    }\n",
              "\n",
              "    [theme=dark] .colab-df-convert:hover {\n",
              "      background-color: #434B5C;\n",
              "      box-shadow: 0px 1px 3px 1px rgba(0, 0, 0, 0.15);\n",
              "      filter: drop-shadow(0px 1px 2px rgba(0, 0, 0, 0.3));\n",
              "      fill: #FFFFFF;\n",
              "    }\n",
              "  </style>\n",
              "\n",
              "      <script>\n",
              "        const buttonEl =\n",
              "          document.querySelector('#df-1587a6bc-e8fe-4b3a-8497-d99a4a518d15 button.colab-df-convert');\n",
              "        buttonEl.style.display =\n",
              "          google.colab.kernel.accessAllowed ? 'block' : 'none';\n",
              "\n",
              "        async function convertToInteractive(key) {\n",
              "          const element = document.querySelector('#df-1587a6bc-e8fe-4b3a-8497-d99a4a518d15');\n",
              "          const dataTable =\n",
              "            await google.colab.kernel.invokeFunction('convertToInteractive',\n",
              "                                                     [key], {});\n",
              "          if (!dataTable) return;\n",
              "\n",
              "          const docLinkHtml = 'Like what you see? Visit the ' +\n",
              "            '<a target=\"_blank\" href=https://colab.research.google.com/notebooks/data_table.ipynb>data table notebook</a>'\n",
              "            + ' to learn more about interactive tables.';\n",
              "          element.innerHTML = '';\n",
              "          dataTable['output_type'] = 'display_data';\n",
              "          await google.colab.output.renderOutput(dataTable, element);\n",
              "          const docLink = document.createElement('div');\n",
              "          docLink.innerHTML = docLinkHtml;\n",
              "          element.appendChild(docLink);\n",
              "        }\n",
              "      </script>\n",
              "    </div>\n",
              "  </div>\n",
              "  "
            ]
          },
          "metadata": {},
          "execution_count": 29
        }
      ]
    },
    {
      "cell_type": "markdown",
      "source": [
        "**Punto 3**\n",
        "3. La empresa XYZ se enfrente al siguiente problema de financiación a corto plazo. Las cifras están expresadas en millones. Además, se sabe que la empresa cuenta con las siguientes fuentes de recursos:\n",
        "\n",
        "• Una línea de crédito de hasta $100 a una tasa de interés del 1% mensual.\n",
        "• Puede emitir papel comercial a 90 días con un interés total del 2% por un período de 3 meses.\n",
        "• Todos los meses se pueden invertir los fondos sobrantes a una tasa de interés del 0,3% mensual. Por ejemplo, la empresa podría hacer un depósito bancario que le reconoce esa tasa.\n",
        "\n",
        "Sobre este problema, la empresa desea saber si: ¿usar la línea de crédito en algunos de los meses le representa un alto costo? si es así ¿cuándo debería usarla? ¿cuánto cuesta? ¿qué pagos de intereses tendrá que hacer entre enero y junio? etc... Para responder a estos interrogantes, la empresa puede formular y resolver un problema LP de forma rápida y sencilla. Para la formulación del problema de LP.\n"
      ],
      "metadata": {
        "id": "Wl_x12FwXHBy"
      }
    },
    {
      "cell_type": "code",
      "source": [
        "#Construcción de vectores\n",
        "g = np.array([150, 100, -200, 200, -50, -300])\n",
        "f = np.array([0,0,0,0,0,0,0,0,0,0,0,0,0,1]) #Función objetivo\n",
        "rx = np.array([1.01])  #tasa del crédito\n",
        "ry = np.array([1.02]) #Tasa del bono\n",
        "rz = np.array([1.003]) #Tasa excedente\n",
        "R = np.array([[1,0,0,0,0, 1,0,0, -1,0,0,0,0,0],\n",
        "              [-rx,1,0,0,0, 0,1,0, rz,-1,0,0,0,0],\n",
        "              [0,-rx,1,0,0, 0,0,1, 0,rz,-1,0,0,0],\n",
        "              [0,0,-rx,1,0, -ry,0,0, 0,0,rz,-1,0,0],\n",
        "              [0,0,0,-rx,1, 0,-ry,0, 0,0,0,rz,-1,0],\n",
        "              [0,0,0,0,-rx, 0,0,-ry, 0,0,0,0,rz,-1]])\n",
        "\n",
        "#Solución con cvxpy\n",
        "n = len(f) \n",
        "x = cp.Variable(n) \n",
        "\n",
        "objective = cp.Maximize(f.T @ x )\n",
        "constraints = [R @ x == g, x>=0]\n",
        "prob = cp.Problem(objective, constraints)\n",
        "\n",
        "result = prob.solve()\n",
        "\n",
        "sol = round(pd.DataFrame(x.value),4)\n",
        "sol"
      ],
      "metadata": {
        "colab": {
          "base_uri": "https://localhost:8080/",
          "height": 488
        },
        "id": "-50daWV2XJgZ",
        "outputId": "ffde41dd-af19-4707-b558-278ae74ea9ff"
      },
      "execution_count": null,
      "outputs": [
        {
          "output_type": "execute_result",
          "data": {
            "text/plain": [
              "           0\n",
              "0     0.0000\n",
              "1    42.6867\n",
              "2     0.0000\n",
              "3     0.0000\n",
              "4     8.4595\n",
              "5   150.0000\n",
              "6    57.3133\n",
              "7   195.0578\n",
              "8     0.0000\n",
              "9     0.0000\n",
              "10  351.9442\n",
              "11    0.0000\n",
              "12    0.0000\n",
              "13   92.4969"
            ],
            "text/html": [
              "\n",
              "  <div id=\"df-61b1ab9d-d247-47bd-9d13-f22acc3422fa\">\n",
              "    <div class=\"colab-df-container\">\n",
              "      <div>\n",
              "<style scoped>\n",
              "    .dataframe tbody tr th:only-of-type {\n",
              "        vertical-align: middle;\n",
              "    }\n",
              "\n",
              "    .dataframe tbody tr th {\n",
              "        vertical-align: top;\n",
              "    }\n",
              "\n",
              "    .dataframe thead th {\n",
              "        text-align: right;\n",
              "    }\n",
              "</style>\n",
              "<table border=\"1\" class=\"dataframe\">\n",
              "  <thead>\n",
              "    <tr style=\"text-align: right;\">\n",
              "      <th></th>\n",
              "      <th>0</th>\n",
              "    </tr>\n",
              "  </thead>\n",
              "  <tbody>\n",
              "    <tr>\n",
              "      <th>0</th>\n",
              "      <td>0.0000</td>\n",
              "    </tr>\n",
              "    <tr>\n",
              "      <th>1</th>\n",
              "      <td>42.6867</td>\n",
              "    </tr>\n",
              "    <tr>\n",
              "      <th>2</th>\n",
              "      <td>0.0000</td>\n",
              "    </tr>\n",
              "    <tr>\n",
              "      <th>3</th>\n",
              "      <td>0.0000</td>\n",
              "    </tr>\n",
              "    <tr>\n",
              "      <th>4</th>\n",
              "      <td>8.4595</td>\n",
              "    </tr>\n",
              "    <tr>\n",
              "      <th>5</th>\n",
              "      <td>150.0000</td>\n",
              "    </tr>\n",
              "    <tr>\n",
              "      <th>6</th>\n",
              "      <td>57.3133</td>\n",
              "    </tr>\n",
              "    <tr>\n",
              "      <th>7</th>\n",
              "      <td>195.0578</td>\n",
              "    </tr>\n",
              "    <tr>\n",
              "      <th>8</th>\n",
              "      <td>0.0000</td>\n",
              "    </tr>\n",
              "    <tr>\n",
              "      <th>9</th>\n",
              "      <td>0.0000</td>\n",
              "    </tr>\n",
              "    <tr>\n",
              "      <th>10</th>\n",
              "      <td>351.9442</td>\n",
              "    </tr>\n",
              "    <tr>\n",
              "      <th>11</th>\n",
              "      <td>0.0000</td>\n",
              "    </tr>\n",
              "    <tr>\n",
              "      <th>12</th>\n",
              "      <td>0.0000</td>\n",
              "    </tr>\n",
              "    <tr>\n",
              "      <th>13</th>\n",
              "      <td>92.4969</td>\n",
              "    </tr>\n",
              "  </tbody>\n",
              "</table>\n",
              "</div>\n",
              "      <button class=\"colab-df-convert\" onclick=\"convertToInteractive('df-61b1ab9d-d247-47bd-9d13-f22acc3422fa')\"\n",
              "              title=\"Convert this dataframe to an interactive table.\"\n",
              "              style=\"display:none;\">\n",
              "        \n",
              "  <svg xmlns=\"http://www.w3.org/2000/svg\" height=\"24px\"viewBox=\"0 0 24 24\"\n",
              "       width=\"24px\">\n",
              "    <path d=\"M0 0h24v24H0V0z\" fill=\"none\"/>\n",
              "    <path d=\"M18.56 5.44l.94 2.06.94-2.06 2.06-.94-2.06-.94-.94-2.06-.94 2.06-2.06.94zm-11 1L8.5 8.5l.94-2.06 2.06-.94-2.06-.94L8.5 2.5l-.94 2.06-2.06.94zm10 10l.94 2.06.94-2.06 2.06-.94-2.06-.94-.94-2.06-.94 2.06-2.06.94z\"/><path d=\"M17.41 7.96l-1.37-1.37c-.4-.4-.92-.59-1.43-.59-.52 0-1.04.2-1.43.59L10.3 9.45l-7.72 7.72c-.78.78-.78 2.05 0 2.83L4 21.41c.39.39.9.59 1.41.59.51 0 1.02-.2 1.41-.59l7.78-7.78 2.81-2.81c.8-.78.8-2.07 0-2.86zM5.41 20L4 18.59l7.72-7.72 1.47 1.35L5.41 20z\"/>\n",
              "  </svg>\n",
              "      </button>\n",
              "      \n",
              "  <style>\n",
              "    .colab-df-container {\n",
              "      display:flex;\n",
              "      flex-wrap:wrap;\n",
              "      gap: 12px;\n",
              "    }\n",
              "\n",
              "    .colab-df-convert {\n",
              "      background-color: #E8F0FE;\n",
              "      border: none;\n",
              "      border-radius: 50%;\n",
              "      cursor: pointer;\n",
              "      display: none;\n",
              "      fill: #1967D2;\n",
              "      height: 32px;\n",
              "      padding: 0 0 0 0;\n",
              "      width: 32px;\n",
              "    }\n",
              "\n",
              "    .colab-df-convert:hover {\n",
              "      background-color: #E2EBFA;\n",
              "      box-shadow: 0px 1px 2px rgba(60, 64, 67, 0.3), 0px 1px 3px 1px rgba(60, 64, 67, 0.15);\n",
              "      fill: #174EA6;\n",
              "    }\n",
              "\n",
              "    [theme=dark] .colab-df-convert {\n",
              "      background-color: #3B4455;\n",
              "      fill: #D2E3FC;\n",
              "    }\n",
              "\n",
              "    [theme=dark] .colab-df-convert:hover {\n",
              "      background-color: #434B5C;\n",
              "      box-shadow: 0px 1px 3px 1px rgba(0, 0, 0, 0.15);\n",
              "      filter: drop-shadow(0px 1px 2px rgba(0, 0, 0, 0.3));\n",
              "      fill: #FFFFFF;\n",
              "    }\n",
              "  </style>\n",
              "\n",
              "      <script>\n",
              "        const buttonEl =\n",
              "          document.querySelector('#df-61b1ab9d-d247-47bd-9d13-f22acc3422fa button.colab-df-convert');\n",
              "        buttonEl.style.display =\n",
              "          google.colab.kernel.accessAllowed ? 'block' : 'none';\n",
              "\n",
              "        async function convertToInteractive(key) {\n",
              "          const element = document.querySelector('#df-61b1ab9d-d247-47bd-9d13-f22acc3422fa');\n",
              "          const dataTable =\n",
              "            await google.colab.kernel.invokeFunction('convertToInteractive',\n",
              "                                                     [key], {});\n",
              "          if (!dataTable) return;\n",
              "\n",
              "          const docLinkHtml = 'Like what you see? Visit the ' +\n",
              "            '<a target=\"_blank\" href=https://colab.research.google.com/notebooks/data_table.ipynb>data table notebook</a>'\n",
              "            + ' to learn more about interactive tables.';\n",
              "          element.innerHTML = '';\n",
              "          dataTable['output_type'] = 'display_data';\n",
              "          await google.colab.output.renderOutput(dataTable, element);\n",
              "          const docLink = document.createElement('div');\n",
              "          docLink.innerHTML = docLinkHtml;\n",
              "          element.appendChild(docLink);\n",
              "        }\n",
              "      </script>\n",
              "    </div>\n",
              "  </div>\n",
              "  "
            ]
          },
          "metadata": {},
          "execution_count": 23
        }
      ]
    },
    {
      "cell_type": "markdown",
      "source": [
        "**Punto 4**\n",
        "Para las variables aleatorias, xi y yi con i = 1,2, ... , N; demuestre que el vector de\n",
        "coeficientes β del modelo lineal y = β̂TX + ε, obtenido a partir de la estimación por MCO,\n",
        "viene dado por:\n",
        "\n",
        "β̂ = Q\n",
        "−1b = (X\n",
        "TX)\n",
        "−1X\n",
        "Ty (4.1)\n",
        "\n",
        "Donde: X es la matrix N × m, con m variables explicativas. Además, Q = (X\n",
        "TX)\n",
        "−1 y b = X\n",
        "Ty.\n",
        "Tener en cuenta que el problema MCO anterior, se puede formular como un problema de\n",
        "programación cuadrática (QP) sin restricciones:\n",
        "\n",
        "min\n",
        "β\n",
        "0.5 β\n",
        "TQβ − b\n",
        "Tβ (4.2)\n",
        "\n",
        "O de forma equivalente:\n",
        "\n",
        "min\n",
        "β\n",
        "∑ (β\n",
        "Txi − yi\n",
        ")\n",
        "N 2\n",
        "i=1 (4.3)\n",
        "\n",
        "Nota: Para probar la expresión 4.1 puede seleccionar un activo y un conjunto de factores.\n",
        "Implemente el problema usando Linprog."
      ],
      "metadata": {
        "id": "Lq_u0Xp9YqIy"
      }
    },
    {
      "cell_type": "code",
      "source": [
        "## Estimaciones para MCO\n",
        "# Información histórica para MCO\n",
        "fechai = \"2015-12-01\"\n",
        "fechaf = \"2020-12-31\"\n",
        "periodicidad = \"1Mo\"\n",
        "mco = [\"MCO\"]\n",
        "p_mco = yf.download(mco,start=fechai,end=fechaf,interval=periodicidad)['Adj Close'].dropna()\n",
        "r_mco = np.log(p_mco/p_mco.shift(1)).dropna()\n",
        "\n",
        "indice = yf.download(\"^GSPC\",start=fechai,end=fechaf,interval=periodicidad)['Adj Close'].dropna()\n",
        "r_indice = np.log(indice/indice.shift(1)).dropna()"
      ],
      "metadata": {
        "colab": {
          "base_uri": "https://localhost:8080/"
        },
        "id": "oqz1rCYhY9Z5",
        "outputId": "0cefc935-339b-4f24-fe41-1451da3b32b4"
      },
      "execution_count": null,
      "outputs": [
        {
          "output_type": "stream",
          "name": "stdout",
          "text": [
            "[*********************100%***********************]  1 of 1 completed\n",
            "[*********************100%***********************]  1 of 1 completed\n"
          ]
        }
      ]
    },
    {
      "cell_type": "code",
      "source": [
        "# Estimación lineal\n",
        "slope, intercept, r, p, std_err = stats.linregress(r_indice, r_mco)\n",
        "def linestim(x):\n",
        "  return intercept + slope * x\n",
        "\n",
        "model = list(map(linestim, r_indice))"
      ],
      "metadata": {
        "id": "ZyxLafE-ZhwZ"
      },
      "execution_count": null,
      "outputs": []
    },
    {
      "cell_type": "code",
      "source": [
        "# Estimacion parámetros\n",
        "beta = round(slope,4)\n",
        "alpha = round(intercept,4)\n",
        "print('Beta MCO: ', beta )\n",
        "print('Alpha MCO: ', alpha)"
      ],
      "metadata": {
        "colab": {
          "base_uri": "https://localhost:8080/"
        },
        "id": "6PI5BD69ZkIJ",
        "outputId": "081a1df5-74e6-4440-f114-c2a7b7017ebc"
      },
      "execution_count": null,
      "outputs": [
        {
          "output_type": "stream",
          "name": "stdout",
          "text": [
            "Beta MCO:  1.1725\n",
            "Alpha MCO:  0.0068\n"
          ]
        }
      ]
    },
    {
      "cell_type": "code",
      "source": [
        "# Variables\n",
        "t = len(r_indice)\n",
        "unos2 = pd.DataFrame(np.repeat(1,t))\n",
        "r_indice2 = pd.DataFrame(r_indice)\n",
        "r_mco2 = pd.DataFrame(r_mco)\n",
        "var = np.concatenate((unos2,r_indice2),1)\n",
        "X = var.T @ var\n",
        "Xy = var.T @ r_mco\n",
        "Sol= np.linalg.solve(X,Xy)\n",
        "Sol"
      ],
      "metadata": {
        "colab": {
          "base_uri": "https://localhost:8080/"
        },
        "id": "TypLsqtCZmgp",
        "outputId": "26c1e8a3-dae7-40c1-d63d-699b33aeeff1"
      },
      "execution_count": null,
      "outputs": [
        {
          "output_type": "execute_result",
          "data": {
            "text/plain": [
              "array([0.00676427, 1.17254405])"
            ]
          },
          "metadata": {},
          "execution_count": 8
        }
      ]
    },
    {
      "cell_type": "markdown",
      "source": [
        "**Punto 5** Un fondo de pensiones necesita cubrir algunos pasivos en los próximos seis años según\n",
        "los siguientes requerimientos de efectivo (cifras en millones $):\n",
        "\n",
        "**Tabla en Excel**\n",
        "\n",
        "Además, asuma que el fondo de pensiones puede invertir en diez bonos del gobierno con\n",
        "los flujos de efectivo y los precios actuales como se muestra a continuación:\n",
        "\n",
        "**Tabla en Excel**\n",
        "\n",
        "Encuentre el portafolio de bonos menos costoso cuyos flujos de efectivo serán suficientes\n",
        "para cubrir los requerimientos de efectivo del fondo. Además, asuma que el excedente de\n",
        "efectivo puede transferirse de un año al siguiente sin generar intereses. Formule y resuelva\n",
        "problema LP.\n",
        "\n",
        "Nota: tener en cuenta las variables de holgura en su formulación. Implemente el problema\n",
        "usando Linprog o CVX."
      ],
      "metadata": {
        "id": "uHk_pXmu0lQ7"
      }
    },
    {
      "cell_type": "code",
      "source": [
        "func_Objetiv = np.array([109,94.8,99.5,93.1,97.2,92.9,110,104,102,95.2,0,0,0,0,0,0])\n",
        "\n",
        "restriccion_desig = np.array([[10,7,8,6,7,5,10,8,7,100,-1,0,0,0,0,0],\n",
        "                              [10,7,8,6,7,5,10,8,107,0,0,-1,0,0,0,0],\n",
        "                              [10,7,8,6,7,5,110,108,0,0,0,0,-1,0,0,0],\n",
        "                              [10,7,8,6,7,105,0,0,0,0,0,0,0,-1,0,0],\n",
        "                              [10,7,8,106,107,0,0,0,0,0,0,0,0,0,-1,0],\n",
        "                              [110,107,108,0,0,0,0,0,0,0,0,0,0,0,0,-1]\n",
        "                              ])\n",
        "\n",
        "rhseq = np.array([100,200,800,100,800,1200])\n",
        "\n",
        "limits = [(0, float(\"inf\")) for x in range(len(func_Objetiv))]\n",
        "\n",
        "optimizacion = linprog(func_Objetiv, A_eq=restriccion_desig,b_eq=rhseq, bounds=limits, method=\"simplex\")\n",
        "optimizacion"
      ],
      "metadata": {
        "colab": {
          "base_uri": "https://localhost:8080/"
        },
        "id": "TzZHX8-g0OUs",
        "outputId": "9af90167-b69d-4a77-8b8f-8c7c39aab8a9"
      },
      "execution_count": null,
      "outputs": [
        {
          "output_type": "execute_result",
          "data": {
            "text/plain": [
              "     con: array([-1.42108547e-14,  0.00000000e+00,  0.00000000e+00, -1.42108547e-14,\n",
              "        0.00000000e+00, -2.27373675e-13])\n",
              "     fun: 2381.1388298203824\n",
              " message: 'Optimization terminated successfully.'\n",
              "     nit: 9\n",
              "   slack: array([], dtype=float64)\n",
              "  status: 0\n",
              " success: True\n",
              "       x: array([ 0.        , 11.21495327,  0.        ,  6.80655969,  0.        ,\n",
              "        0.        ,  0.        ,  6.30237008,  0.28258886,  0.        ,\n",
              "       71.74111374,  0.        ,  0.        , 19.34403104,  0.        ,\n",
              "        0.        ])"
            ]
          },
          "metadata": {},
          "execution_count": 6
        }
      ]
    },
    {
      "cell_type": "markdown",
      "source": [
        "R/ la cantidad minima optima a minizar es 2381.13 para que se  cumpla con los requerimientos de efectivo. Por tanto, el portafolio de bonos menos costoso cuyos flujos de efectivo serán suficientes para cubrir los requerimientos de efectivo del fondo es el Bono 2 con 11.21495327. \n",
        "\n"
      ],
      "metadata": {
        "id": "2PjqGSJu8kR-"
      }
    }
  ]
}